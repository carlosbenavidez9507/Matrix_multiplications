{
 "cells": [
  {
   "cell_type": "markdown",
   "metadata": {},
   "source": [
    "# Punto 3 (Taller Spark)"
   ]
  },
  {
   "cell_type": "markdown",
   "metadata": {},
   "source": [
    "### Seminario de base de datos 2020-1"
   ]
  },
  {
   "cell_type": "markdown",
   "metadata": {},
   "source": [
    "#### Estudiante:Carlos Alberto Benavidez Vega\n",
    "#### Estudiante:Juan Camilo Roja Ricaurte"
   ]
  },
  {
   "cell_type": "code",
   "execution_count": 1,
   "metadata": {},
   "outputs": [],
   "source": [
    "import findspark\n",
    "findspark.init()\n",
    "from pyspark.sql import SparkSession, SQLContext\n",
    "from pyspark import SparkContext, SparkConf"
   ]
  },
  {
   "cell_type": "code",
   "execution_count": 2,
   "metadata": {},
   "outputs": [],
   "source": [
    "environment_to_connect = 'local'\n",
    "\n",
    "conf = SparkConf().setAppName('sparse_matrix').setMaster(environment_to_connect)\n",
    "sc = SparkContext(conf=conf)\n",
    "spark = SQLContext(sc)"
   ]
  },
  {
   "cell_type": "code",
   "execution_count": 10,
   "metadata": {},
   "outputs": [],
   "source": [
    "A= sc.textFile('Matriz_Ejemplo_A.dat', 2)\n",
    "rowsA=A.count()"
   ]
  },
  {
   "cell_type": "code",
   "execution_count": 11,
   "metadata": {},
   "outputs": [],
   "source": [
    "A = A.map( lambda line: list(map(float, line.split(' '))) )"
   ]
  },
  {
   "cell_type": "code",
   "execution_count": 12,
   "metadata": {},
   "outputs": [],
   "source": [
    "columnsA=len(A.take(5)[0])"
   ]
  },
  {
   "cell_type": "code",
   "execution_count": 14,
   "metadata": {},
   "outputs": [
    {
     "name": "stdout",
     "output_type": "stream",
     "text": [
      "Matrix dimensions (A)  1000 rows  128 columns\n"
     ]
    }
   ],
   "source": [
    "print ('Matrix dimensions (A) ',rowsA,'rows ',columnsA,'columns')"
   ]
  },
  {
   "cell_type": "code",
   "execution_count": 15,
   "metadata": {},
   "outputs": [],
   "source": [
    "B=sc.textFile('Matriz_Ejemplo_B.dat', 2)\n",
    "rowsB=B.count()"
   ]
  },
  {
   "cell_type": "code",
   "execution_count": 16,
   "metadata": {},
   "outputs": [],
   "source": [
    "B=B.map( lambda line: list(map(float, line.split(' '))) ) "
   ]
  },
  {
   "cell_type": "code",
   "execution_count": 17,
   "metadata": {},
   "outputs": [],
   "source": [
    "columnsB=len(B.take(5)[0])"
   ]
  },
  {
   "cell_type": "code",
   "execution_count": 18,
   "metadata": {},
   "outputs": [
    {
     "name": "stdout",
     "output_type": "stream",
     "text": [
      "Matrix dimensions (B) 128 rows  60 columns\n"
     ]
    }
   ],
   "source": [
    "print ('Matrix dimensions (B)',rowsB,'rows ',columnsB,'columns')"
   ]
  },
  {
   "cell_type": "code",
   "execution_count": 19,
   "metadata": {},
   "outputs": [],
   "source": [
    "A_tmp=A.collect()\n",
    "B_tmp=B.collect()"
   ]
  },
  {
   "cell_type": "code",
   "execution_count": 20,
   "metadata": {},
   "outputs": [],
   "source": [
    "def define_sparse_matrix(item,row):\n",
    " \n",
    "    structure=[]\n",
    "    for column in range (len(item)):\n",
    "        element=item[column]\n",
    "        if element !=0:\n",
    "            structure.append((row,column,item[column]))\n",
    "    \n",
    "    return (structure)"
   ]
  },
  {
   "cell_type": "code",
   "execution_count": 21,
   "metadata": {},
   "outputs": [],
   "source": [
    "def transform_matrix(M):\n",
    "    Mtmp=[]\n",
    "    for i in range(len(M)):\n",
    "        row=define_sparse_matrix(M[i],i)\n",
    "        Mtmp.append(row)\n",
    "    \n",
    "    return Mtmp"
   ]
  },
  {
   "cell_type": "code",
   "execution_count": 22,
   "metadata": {},
   "outputs": [],
   "source": [
    "A_sparse=transform_matrix(A_tmp)\n",
    "B_sparse=transform_matrix(B_tmp)"
   ]
  },
  {
   "cell_type": "code",
   "execution_count": 23,
   "metadata": {},
   "outputs": [
    {
     "name": "stdout",
     "output_type": "stream",
     "text": [
      "Matrix dimensions (A) 1000 rows  128 columns\n"
     ]
    }
   ],
   "source": [
    "print ('Matrix dimensions (A)',len(A_sparse),'rows ',len(A_sparse[0]),'columns')"
   ]
  },
  {
   "cell_type": "code",
   "execution_count": 25,
   "metadata": {},
   "outputs": [
    {
     "name": "stdout",
     "output_type": "stream",
     "text": [
      "Matrix dimensions (B) 128 filas  60 columns\n"
     ]
    }
   ],
   "source": [
    "print ('Matrix dimensions (B)',len(B_sparse),'filas ',len(B_sparse[0]),'columns')"
   ]
  },
  {
   "cell_type": "code",
   "execution_count": 4,
   "metadata": {},
   "outputs": [],
   "source": [
    "def map_operation(Rdd_A,Rdd_B):\n",
    "\n",
    "    Map_one_A= Rdd_A.flatMap( lambda line: [(row[1], (row[0], row[2])) for row in line] )\n",
    "    Map_one_B=Rdd_B.flatMap( lambda line: [(row[0], (row[1], row[2])) for row in line] )\n",
    "\n",
    "    \n",
    "    \n",
    "    return 0"
   ]
  },
  {
   "cell_type": "code",
   "execution_count": 26,
   "metadata": {},
   "outputs": [
    {
     "name": "stdout",
     "output_type": "stream",
     "text": [
      "[(0, 0, 4.1287), (0, 1, 2.2078), (0, 2, 8.4434), (0, 3, -0.40286), (0, 4, 2.4057)]\n",
      "[(1, 0, 1.9492), (1, 1, -1.1705), (1, 2, 2.2879), (1, 3, 6.0707), (1, 4, 3.211)]\n"
     ]
    }
   ],
   "source": [
    "Rdd_A=sc.parallelize(A_sparse,2)\n",
    "Rdd_B=sc.parallelize(B_sparse,2)\n",
    "print(Rdd_A.take(5)[0][:5])\n",
    "print(Rdd_A.take(5)[1][:5])"
   ]
  },
  {
   "cell_type": "code",
   "execution_count": 27,
   "metadata": {},
   "outputs": [
    {
     "data": {
      "text/plain": [
       "ParallelCollectionRDD[15] at readRDDFromFile at PythonRDD.scala:262"
      ]
     },
     "execution_count": 27,
     "metadata": {},
     "output_type": "execute_result"
    }
   ],
   "source": [
    "Rdd_A.cache()\n",
    "Rdd_B.cache()"
   ]
  },
  {
   "cell_type": "code",
   "execution_count": 28,
   "metadata": {},
   "outputs": [
    {
     "name": "stdout",
     "output_type": "stream",
     "text": [
      "[(0, 0, 4.1287), (0, 1, 2.2078), (0, 2, 8.4434), (0, 3, -0.40286), (0, 4, 2.4057)]\n",
      "[(1, 0, 1.9492), (1, 1, -1.1705), (1, 2, 2.2879), (1, 3, 6.0707), (1, 4, 3.211)]\n"
     ]
    }
   ],
   "source": [
    "print(Rdd_A.take(2)[0][:5])\n",
    "print(Rdd_A.take(2)[1][:5])"
   ]
  },
  {
   "cell_type": "code",
   "execution_count": 29,
   "metadata": {},
   "outputs": [
    {
     "name": "stdout",
     "output_type": "stream",
     "text": [
      "[(0, 0, 4.1588), (0, 1, 7.4706), (0, 2, 6.431), (0, 3, 8.8949), (0, 4, 6.1778)]\n",
      "[(1, 0, 4.779), (1, 1, 5.0498), (1, 2, 8.9186), (1, 3, 9.8314), (1, 4, 3.2737)]\n"
     ]
    }
   ],
   "source": [
    "print(Rdd_B.take(2)[0][:5])\n",
    "print(Rdd_B.take(2)[1][:5])"
   ]
  },
  {
   "cell_type": "code",
   "execution_count": null,
   "metadata": {},
   "outputs": [],
   "source": [
    "map_operation(Rdd_A,Rdd_B)"
   ]
  },
  {
   "cell_type": "code",
   "execution_count": 5,
   "metadata": {},
   "outputs": [],
   "source": [
    "def red_operation():\n",
    "    print(\"red operation\")\n",
    "    return 0"
   ]
  }
 ],
 "metadata": {
  "kernelspec": {
   "display_name": "Python 3",
   "language": "python",
   "name": "python3"
  },
  "language_info": {
   "codemirror_mode": {
    "name": "ipython",
    "version": 3
   },
   "file_extension": ".py",
   "mimetype": "text/x-python",
   "name": "python",
   "nbconvert_exporter": "python",
   "pygments_lexer": "ipython3",
   "version": "3.7.3"
  }
 },
 "nbformat": 4,
 "nbformat_minor": 2
}
